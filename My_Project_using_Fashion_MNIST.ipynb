{
  "nbformat": 4,
  "nbformat_minor": 0,
  "metadata": {
    "colab": {
      "name": "My Project using Fashion-MNIST.ipynb",
      "provenance": [],
      "collapsed_sections": [],
      "authorship_tag": "ABX9TyPBdv/HHiIryJgWs+IPWpvM",
      "include_colab_link": true
    },
    "kernelspec": {
      "name": "python3",
      "display_name": "Python 3"
    }
  },
  "cells": [
    {
      "cell_type": "markdown",
      "metadata": {
        "id": "view-in-github",
        "colab_type": "text"
      },
      "source": [
        "<a href=\"https://colab.research.google.com/github/SZPiho/My-Project-using-Fashion-MNIST/blob/main/My_Project_using_Fashion_MNIST.ipynb\" target=\"_parent\"><img src=\"https://colab.research.google.com/assets/colab-badge.svg\" alt=\"Open In Colab\"/></a>"
      ]
    },
    {
      "cell_type": "code",
      "metadata": {
        "id": "bzK2yOmmcdCP"
      },
      "source": [
        "import tensorflow as tf\n",
        "from tensorflow import keras\n",
        "from tensorflow.keras import Sequential,regularizers\n",
        "from tensorflow.keras.layers import Flatten,Dense,Dropout\n",
        "from tensorflow.keras.callbacks import EarlyStopping"
      ],
      "execution_count": 1,
      "outputs": []
    },
    {
      "cell_type": "code",
      "metadata": {
        "id": "cuIa7unKcvkx"
      },
      "source": [
        "from tensorflow.keras.datasets import fashion_mnist"
      ],
      "execution_count": 2,
      "outputs": []
    },
    {
      "cell_type": "code",
      "metadata": {
        "id": "yusl-7-Pc15K",
        "colab": {
          "base_uri": "https://localhost:8080/"
        },
        "outputId": "a17c7465-902f-40ef-9f62-075ef8ec9e7e"
      },
      "source": [
        "(x_train,y_train),(x_test,y_test)=fashion_mnist.load_data()"
      ],
      "execution_count": 3,
      "outputs": [
        {
          "output_type": "stream",
          "name": "stdout",
          "text": [
            "Downloading data from https://storage.googleapis.com/tensorflow/tf-keras-datasets/train-labels-idx1-ubyte.gz\n",
            "32768/29515 [=================================] - 0s 0us/step\n",
            "40960/29515 [=========================================] - 0s 0us/step\n",
            "Downloading data from https://storage.googleapis.com/tensorflow/tf-keras-datasets/train-images-idx3-ubyte.gz\n",
            "26427392/26421880 [==============================] - 0s 0us/step\n",
            "26435584/26421880 [==============================] - 0s 0us/step\n",
            "Downloading data from https://storage.googleapis.com/tensorflow/tf-keras-datasets/t10k-labels-idx1-ubyte.gz\n",
            "16384/5148 [===============================================================================================] - 0s 0us/step\n",
            "Downloading data from https://storage.googleapis.com/tensorflow/tf-keras-datasets/t10k-images-idx3-ubyte.gz\n",
            "4423680/4422102 [==============================] - 0s 0us/step\n",
            "4431872/4422102 [==============================] - 0s 0us/step\n"
          ]
        }
      ]
    },
    {
      "cell_type": "code",
      "metadata": {
        "id": "Km6UWJo5fmRR"
      },
      "source": [
        "x_train=x_train/255.0\n",
        "x_test=x_test/255.0"
      ],
      "execution_count": 4,
      "outputs": []
    },
    {
      "cell_type": "code",
      "metadata": {
        "id": "Fo-BCsKEgEgw"
      },
      "source": [
        "model=Sequential()"
      ],
      "execution_count": 5,
      "outputs": []
    },
    {
      "cell_type": "code",
      "metadata": {
        "id": "PgwQfUOFgXpk"
      },
      "source": [
        "model.add(Flatten(input_shape=(28,28)))\n",
        "model.add(Dense(1024,activation='relu',kernel_regularizer=regularizers.l2(1e-4)))\n",
        "model.add(Dense(512,activation='relu',kernel_regularizer=regularizers.l2(1e-4)))\n",
        "model.add(Dense(256,activation='relu',kernel_regularizer=regularizers.l2(1e-4)))\n",
        "model.add(Dense(10,activation='softmax'))"
      ],
      "execution_count": 6,
      "outputs": []
    },
    {
      "cell_type": "code",
      "metadata": {
        "id": "qs_JuBBmg9RD",
        "colab": {
          "base_uri": "https://localhost:8080/"
        },
        "outputId": "60addf4c-b97a-4fbb-b35c-5b68f993b588"
      },
      "source": [
        "model.compile(optimizer='adam',\n",
        "              loss='sparse_categorical_crossentropy',\n",
        "              metrics=['accuracy'])\n",
        "monitor=EarlyStopping(monitor='val_loss',min_delta=1e-3,patience=5,verbose=0,mode='auto',restore_best_weights=True)\n",
        "model.fit(x_train,y_train,epochs=500,batch_size=100,validation_data=(x_test,y_test),validation_batch_size=100,callbacks=[monitor])"
      ],
      "execution_count": 7,
      "outputs": [
        {
          "output_type": "stream",
          "name": "stdout",
          "text": [
            "Epoch 1/500\n",
            "600/600 [==============================] - 21s 34ms/step - loss: 0.6205 - accuracy: 0.8262 - val_loss: 0.5424 - val_accuracy: 0.8469\n",
            "Epoch 2/500\n",
            "600/600 [==============================] - 20s 33ms/step - loss: 0.4709 - accuracy: 0.8677 - val_loss: 0.4811 - val_accuracy: 0.8616\n",
            "Epoch 3/500\n",
            "600/600 [==============================] - 20s 34ms/step - loss: 0.4239 - accuracy: 0.8783 - val_loss: 0.4511 - val_accuracy: 0.8642\n",
            "Epoch 4/500\n",
            "600/600 [==============================] - 20s 34ms/step - loss: 0.3972 - accuracy: 0.8831 - val_loss: 0.4289 - val_accuracy: 0.8695\n",
            "Epoch 5/500\n",
            "600/600 [==============================] - 20s 33ms/step - loss: 0.3726 - accuracy: 0.8889 - val_loss: 0.4242 - val_accuracy: 0.8705\n",
            "Epoch 6/500\n",
            "600/600 [==============================] - 20s 33ms/step - loss: 0.3574 - accuracy: 0.8936 - val_loss: 0.4144 - val_accuracy: 0.8813\n",
            "Epoch 7/500\n",
            "600/600 [==============================] - 20s 33ms/step - loss: 0.3425 - accuracy: 0.8978 - val_loss: 0.4216 - val_accuracy: 0.8767\n",
            "Epoch 8/500\n",
            "600/600 [==============================] - 20s 33ms/step - loss: 0.3299 - accuracy: 0.9011 - val_loss: 0.4055 - val_accuracy: 0.8799\n",
            "Epoch 9/500\n",
            "600/600 [==============================] - 20s 33ms/step - loss: 0.3193 - accuracy: 0.9033 - val_loss: 0.4035 - val_accuracy: 0.8783\n",
            "Epoch 10/500\n",
            "600/600 [==============================] - 20s 33ms/step - loss: 0.3151 - accuracy: 0.9055 - val_loss: 0.3962 - val_accuracy: 0.8784\n",
            "Epoch 11/500\n",
            "600/600 [==============================] - 20s 33ms/step - loss: 0.3046 - accuracy: 0.9081 - val_loss: 0.3962 - val_accuracy: 0.8829\n",
            "Epoch 12/500\n",
            "600/600 [==============================] - 20s 33ms/step - loss: 0.2998 - accuracy: 0.9093 - val_loss: 0.3809 - val_accuracy: 0.8879\n",
            "Epoch 13/500\n",
            "600/600 [==============================] - 20s 34ms/step - loss: 0.2939 - accuracy: 0.9128 - val_loss: 0.3900 - val_accuracy: 0.8855\n",
            "Epoch 14/500\n",
            "600/600 [==============================] - 20s 34ms/step - loss: 0.2886 - accuracy: 0.9148 - val_loss: 0.3872 - val_accuracy: 0.8860\n",
            "Epoch 15/500\n",
            "600/600 [==============================] - 20s 33ms/step - loss: 0.2823 - accuracy: 0.9162 - val_loss: 0.3880 - val_accuracy: 0.8760\n",
            "Epoch 16/500\n",
            "600/600 [==============================] - 20s 34ms/step - loss: 0.2773 - accuracy: 0.9181 - val_loss: 0.3806 - val_accuracy: 0.8909\n",
            "Epoch 17/500\n",
            "600/600 [==============================] - 20s 34ms/step - loss: 0.2763 - accuracy: 0.9191 - val_loss: 0.3810 - val_accuracy: 0.8873\n"
          ]
        },
        {
          "output_type": "execute_result",
          "data": {
            "text/plain": [
              "<keras.callbacks.History at 0x7f2c416a1690>"
            ]
          },
          "metadata": {},
          "execution_count": 7
        }
      ]
    },
    {
      "cell_type": "code",
      "metadata": {
        "id": "Jto1nVsVmJoi",
        "colab": {
          "base_uri": "https://localhost:8080/"
        },
        "outputId": "0b5514ba-a24c-4a78-93fc-8ed0bd6dff7f"
      },
      "source": [
        "model.evaluate(x_test,y_test)"
      ],
      "execution_count": 8,
      "outputs": [
        {
          "output_type": "stream",
          "name": "stdout",
          "text": [
            "313/313 [==============================] - 3s 8ms/step - loss: 0.3809 - accuracy: 0.8879\n"
          ]
        },
        {
          "output_type": "execute_result",
          "data": {
            "text/plain": [
              "[0.38091427087783813, 0.8878999948501587]"
            ]
          },
          "metadata": {},
          "execution_count": 8
        }
      ]
    },
    {
      "cell_type": "code",
      "metadata": {
        "id": "V-p_tBD7n05S",
        "colab": {
          "base_uri": "https://localhost:8080/"
        },
        "outputId": "bf32d0e7-83e5-46fe-d436-c450c1522961"
      },
      "source": [
        "classification=model.predict(x_test)\n",
        "print(classification[0])"
      ],
      "execution_count": 9,
      "outputs": [
        {
          "output_type": "stream",
          "name": "stdout",
          "text": [
            "[1.7309441e-06 2.6189948e-06 2.2680007e-07 2.8257290e-07 4.4286799e-07\n",
            " 4.6389736e-04 2.2079578e-07 9.1939140e-03 2.5931572e-06 9.9033409e-01]\n"
          ]
        }
      ]
    },
    {
      "cell_type": "code",
      "metadata": {
        "id": "fWATkvHBoDOW"
      },
      "source": [
        ""
      ],
      "execution_count": null,
      "outputs": []
    }
  ]
}